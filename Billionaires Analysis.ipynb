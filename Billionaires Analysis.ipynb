{
 "cells": [
  {
   "cell_type": "code",
   "execution_count": 25,
   "id": "841d8460",
   "metadata": {},
   "outputs": [],
   "source": [
    "import pandas as pd \n",
    "import numpy as np\n",
    "import seaborn as sns\n",
    "import matplotlib.pyplot as plt"
   ]
  },
  {
   "cell_type": "code",
   "execution_count": 26,
   "id": "48aa9eb5",
   "metadata": {},
   "outputs": [],
   "source": [
    "data=pd.read_csv('C:/Users/Rakesh/Datasets/Billionaire.csv')"
   ]
  },
  {
   "cell_type": "code",
   "execution_count": 42,
   "id": "9daf6fc1",
   "metadata": {},
   "outputs": [
    {
     "data": {
      "text/html": [
       "<div>\n",
       "<style scoped>\n",
       "    .dataframe tbody tr th:only-of-type {\n",
       "        vertical-align: middle;\n",
       "    }\n",
       "\n",
       "    .dataframe tbody tr th {\n",
       "        vertical-align: top;\n",
       "    }\n",
       "\n",
       "    .dataframe thead th {\n",
       "        text-align: right;\n",
       "    }\n",
       "</style>\n",
       "<table border=\"1\" class=\"dataframe\">\n",
       "  <thead>\n",
       "    <tr style=\"text-align: right;\">\n",
       "      <th></th>\n",
       "      <th>Name</th>\n",
       "      <th>NetWorth</th>\n",
       "      <th>Country</th>\n",
       "      <th>Source</th>\n",
       "      <th>Rank</th>\n",
       "      <th>Age</th>\n",
       "      <th>Industry</th>\n",
       "    </tr>\n",
       "  </thead>\n",
       "  <tbody>\n",
       "    <tr>\n",
       "      <th>0</th>\n",
       "      <td>Jeff Bezos</td>\n",
       "      <td>177.0</td>\n",
       "      <td>United States</td>\n",
       "      <td>Amazon</td>\n",
       "      <td>1</td>\n",
       "      <td>57.0</td>\n",
       "      <td>Technology</td>\n",
       "    </tr>\n",
       "    <tr>\n",
       "      <th>1</th>\n",
       "      <td>Elon Musk</td>\n",
       "      <td>151.0</td>\n",
       "      <td>United States</td>\n",
       "      <td>Tesla, SpaceX</td>\n",
       "      <td>2</td>\n",
       "      <td>49.0</td>\n",
       "      <td>Automotive</td>\n",
       "    </tr>\n",
       "    <tr>\n",
       "      <th>2</th>\n",
       "      <td>Bernard Arnault &amp; family</td>\n",
       "      <td>150.0</td>\n",
       "      <td>France</td>\n",
       "      <td>LVMH</td>\n",
       "      <td>3</td>\n",
       "      <td>72.0</td>\n",
       "      <td>Fashion &amp; Retail</td>\n",
       "    </tr>\n",
       "    <tr>\n",
       "      <th>3</th>\n",
       "      <td>Bill Gates</td>\n",
       "      <td>124.0</td>\n",
       "      <td>United States</td>\n",
       "      <td>Microsoft</td>\n",
       "      <td>4</td>\n",
       "      <td>65.0</td>\n",
       "      <td>Technology</td>\n",
       "    </tr>\n",
       "    <tr>\n",
       "      <th>4</th>\n",
       "      <td>Mark Zuckerberg</td>\n",
       "      <td>97.0</td>\n",
       "      <td>United States</td>\n",
       "      <td>Facebook</td>\n",
       "      <td>5</td>\n",
       "      <td>36.0</td>\n",
       "      <td>Technology</td>\n",
       "    </tr>\n",
       "    <tr>\n",
       "      <th>5</th>\n",
       "      <td>Warren Buffett</td>\n",
       "      <td>96.0</td>\n",
       "      <td>United States</td>\n",
       "      <td>Berkshire Hathaway</td>\n",
       "      <td>6</td>\n",
       "      <td>90.0</td>\n",
       "      <td>Finance &amp; Investments</td>\n",
       "    </tr>\n",
       "    <tr>\n",
       "      <th>6</th>\n",
       "      <td>Larry Ellison</td>\n",
       "      <td>93.0</td>\n",
       "      <td>United States</td>\n",
       "      <td>software</td>\n",
       "      <td>7</td>\n",
       "      <td>76.0</td>\n",
       "      <td>Technology</td>\n",
       "    </tr>\n",
       "    <tr>\n",
       "      <th>7</th>\n",
       "      <td>Larry Page</td>\n",
       "      <td>91.5</td>\n",
       "      <td>United States</td>\n",
       "      <td>Google</td>\n",
       "      <td>8</td>\n",
       "      <td>48.0</td>\n",
       "      <td>Technology</td>\n",
       "    </tr>\n",
       "    <tr>\n",
       "      <th>8</th>\n",
       "      <td>Sergey Brin</td>\n",
       "      <td>89.0</td>\n",
       "      <td>United States</td>\n",
       "      <td>Google</td>\n",
       "      <td>9</td>\n",
       "      <td>47.0</td>\n",
       "      <td>Technology</td>\n",
       "    </tr>\n",
       "    <tr>\n",
       "      <th>9</th>\n",
       "      <td>Mukesh Ambani</td>\n",
       "      <td>84.5</td>\n",
       "      <td>India</td>\n",
       "      <td>diversified</td>\n",
       "      <td>10</td>\n",
       "      <td>63.0</td>\n",
       "      <td>Diversified</td>\n",
       "    </tr>\n",
       "    <tr>\n",
       "      <th>10</th>\n",
       "      <td>Amancio Ortega</td>\n",
       "      <td>77.0</td>\n",
       "      <td>Spain</td>\n",
       "      <td>Zara</td>\n",
       "      <td>11</td>\n",
       "      <td>85.0</td>\n",
       "      <td>Fashion &amp; Retail</td>\n",
       "    </tr>\n",
       "    <tr>\n",
       "      <th>11</th>\n",
       "      <td>Francoise Bettencourt Meyers &amp; family</td>\n",
       "      <td>73.6</td>\n",
       "      <td>France</td>\n",
       "      <td>L'Oréal</td>\n",
       "      <td>12</td>\n",
       "      <td>67.0</td>\n",
       "      <td>Fashion &amp; Retail</td>\n",
       "    </tr>\n",
       "    <tr>\n",
       "      <th>12</th>\n",
       "      <td>Zhong Shanshan</td>\n",
       "      <td>68.9</td>\n",
       "      <td>China</td>\n",
       "      <td>beverages, pharmaceuticals</td>\n",
       "      <td>13</td>\n",
       "      <td>66.0</td>\n",
       "      <td>Food &amp; Beverage</td>\n",
       "    </tr>\n",
       "    <tr>\n",
       "      <th>13</th>\n",
       "      <td>Steve Ballmer</td>\n",
       "      <td>68.7</td>\n",
       "      <td>United States</td>\n",
       "      <td>Microsoft</td>\n",
       "      <td>14</td>\n",
       "      <td>65.0</td>\n",
       "      <td>Technology</td>\n",
       "    </tr>\n",
       "    <tr>\n",
       "      <th>14</th>\n",
       "      <td>Ma Huateng</td>\n",
       "      <td>65.8</td>\n",
       "      <td>China</td>\n",
       "      <td>internet media</td>\n",
       "      <td>15</td>\n",
       "      <td>49.0</td>\n",
       "      <td>Technology</td>\n",
       "    </tr>\n",
       "    <tr>\n",
       "      <th>15</th>\n",
       "      <td>Carlos Slim Helu &amp; family</td>\n",
       "      <td>62.8</td>\n",
       "      <td>Mexico</td>\n",
       "      <td>telecom</td>\n",
       "      <td>16</td>\n",
       "      <td>81.0</td>\n",
       "      <td>Telecom</td>\n",
       "    </tr>\n",
       "    <tr>\n",
       "      <th>16</th>\n",
       "      <td>Alice Walton</td>\n",
       "      <td>61.8</td>\n",
       "      <td>United States</td>\n",
       "      <td>Walmart</td>\n",
       "      <td>17</td>\n",
       "      <td>71.0</td>\n",
       "      <td>Fashion &amp; Retail</td>\n",
       "    </tr>\n",
       "    <tr>\n",
       "      <th>17</th>\n",
       "      <td>Jim Walton</td>\n",
       "      <td>60.2</td>\n",
       "      <td>United States</td>\n",
       "      <td>Walmart</td>\n",
       "      <td>18</td>\n",
       "      <td>72.0</td>\n",
       "      <td>Fashion &amp; Retail</td>\n",
       "    </tr>\n",
       "    <tr>\n",
       "      <th>18</th>\n",
       "      <td>Rob Walton</td>\n",
       "      <td>59.5</td>\n",
       "      <td>United States</td>\n",
       "      <td>Walmart</td>\n",
       "      <td>19</td>\n",
       "      <td>76.0</td>\n",
       "      <td>Fashion &amp; Retail</td>\n",
       "    </tr>\n",
       "    <tr>\n",
       "      <th>19</th>\n",
       "      <td>Michael Bloomberg</td>\n",
       "      <td>59.0</td>\n",
       "      <td>United States</td>\n",
       "      <td>Bloomberg LP</td>\n",
       "      <td>20</td>\n",
       "      <td>79.0</td>\n",
       "      <td>Media &amp; Entertainment</td>\n",
       "    </tr>\n",
       "  </tbody>\n",
       "</table>\n",
       "</div>"
      ],
      "text/plain": [
       "                                     Name  NetWorth        Country  \\\n",
       "0                              Jeff Bezos     177.0  United States   \n",
       "1                               Elon Musk     151.0  United States   \n",
       "2                Bernard Arnault & family     150.0         France   \n",
       "3                              Bill Gates     124.0  United States   \n",
       "4                         Mark Zuckerberg      97.0  United States   \n",
       "5                          Warren Buffett      96.0  United States   \n",
       "6                           Larry Ellison      93.0  United States   \n",
       "7                              Larry Page      91.5  United States   \n",
       "8                             Sergey Brin      89.0  United States   \n",
       "9                           Mukesh Ambani      84.5          India   \n",
       "10                         Amancio Ortega      77.0          Spain   \n",
       "11  Francoise Bettencourt Meyers & family      73.6         France   \n",
       "12                         Zhong Shanshan      68.9          China   \n",
       "13                          Steve Ballmer      68.7  United States   \n",
       "14                             Ma Huateng      65.8          China   \n",
       "15              Carlos Slim Helu & family      62.8         Mexico   \n",
       "16                           Alice Walton      61.8  United States   \n",
       "17                             Jim Walton      60.2  United States   \n",
       "18                             Rob Walton      59.5  United States   \n",
       "19                      Michael Bloomberg      59.0  United States   \n",
       "\n",
       "                        Source  Rank   Age               Industry  \n",
       "0                       Amazon     1  57.0             Technology  \n",
       "1                Tesla, SpaceX     2  49.0             Automotive  \n",
       "2                         LVMH     3  72.0       Fashion & Retail  \n",
       "3                    Microsoft     4  65.0             Technology  \n",
       "4                     Facebook     5  36.0             Technology  \n",
       "5           Berkshire Hathaway     6  90.0  Finance & Investments  \n",
       "6                     software     7  76.0             Technology  \n",
       "7                       Google     8  48.0             Technology  \n",
       "8                       Google     9  47.0             Technology  \n",
       "9                  diversified    10  63.0            Diversified  \n",
       "10                        Zara    11  85.0       Fashion & Retail  \n",
       "11                     L'Oréal    12  67.0       Fashion & Retail  \n",
       "12  beverages, pharmaceuticals    13  66.0        Food & Beverage  \n",
       "13                   Microsoft    14  65.0             Technology  \n",
       "14              internet media    15  49.0             Technology  \n",
       "15                     telecom    16  81.0                Telecom  \n",
       "16                     Walmart    17  71.0       Fashion & Retail  \n",
       "17                     Walmart    18  72.0       Fashion & Retail  \n",
       "18                     Walmart    19  76.0       Fashion & Retail  \n",
       "19                Bloomberg LP    20  79.0  Media & Entertainment  "
      ]
     },
     "execution_count": 42,
     "metadata": {},
     "output_type": "execute_result"
    }
   ],
   "source": [
    "data.head(20)"
   ]
  },
  {
   "cell_type": "code",
   "execution_count": 28,
   "id": "5112f76f",
   "metadata": {},
   "outputs": [
    {
     "data": {
      "text/plain": [
       "Name         0\n",
       "NetWorth     0\n",
       "Country      0\n",
       "Source       0\n",
       "Rank         0\n",
       "Age         79\n",
       "Industry     0\n",
       "dtype: int64"
      ]
     },
     "execution_count": 28,
     "metadata": {},
     "output_type": "execute_result"
    }
   ],
   "source": [
    "data.isnull().sum()"
   ]
  },
  {
   "cell_type": "code",
   "execution_count": 29,
   "id": "8f747662",
   "metadata": {},
   "outputs": [
    {
     "data": {
      "text/plain": [
       "(2755, 7)"
      ]
     },
     "execution_count": 29,
     "metadata": {},
     "output_type": "execute_result"
    }
   ],
   "source": [
    "data.shape"
   ]
  },
  {
   "cell_type": "code",
   "execution_count": 30,
   "id": "0ec99f71",
   "metadata": {},
   "outputs": [],
   "source": [
    "data=data.dropna()"
   ]
  },
  {
   "cell_type": "code",
   "execution_count": 31,
   "id": "eb1b3cc6",
   "metadata": {},
   "outputs": [
    {
     "data": {
      "text/plain": [
       "(2676, 7)"
      ]
     },
     "execution_count": 31,
     "metadata": {},
     "output_type": "execute_result"
    }
   ],
   "source": [
    "data.shape"
   ]
  },
  {
   "cell_type": "code",
   "execution_count": 32,
   "id": "baeb6c96",
   "metadata": {},
   "outputs": [
    {
     "data": {
      "text/plain": [
       "Name         object\n",
       "NetWorth     object\n",
       "Country      object\n",
       "Source       object\n",
       "Rank          int64\n",
       "Age         float64\n",
       "Industry     object\n",
       "dtype: object"
      ]
     },
     "execution_count": 32,
     "metadata": {},
     "output_type": "execute_result"
    }
   ],
   "source": [
    "data.dtypes"
   ]
  },
  {
   "cell_type": "code",
   "execution_count": 33,
   "id": "a5353dec",
   "metadata": {},
   "outputs": [],
   "source": [
    "data['NetWorth']=data['NetWorth'].str.strip('$')\n",
    "data['NetWorth']=data['NetWorth'].str.strip('B')\n",
    "data['NetWorth']=data['NetWorth'].astype(float)"
   ]
  },
  {
   "cell_type": "markdown",
   "id": "a94deced",
   "metadata": {},
   "source": [
    "## Will look at the top 10 Billionaires list"
   ]
  },
  {
   "cell_type": "code",
   "execution_count": 34,
   "id": "3b42992b",
   "metadata": {
    "scrolled": true
   },
   "outputs": [
    {
     "data": {
      "image/png": "[encoded data removed]",
      "text/plain": [
       "<Figure size 1440x720 with 1 Axes>"
      ]
     },
     "metadata": {
      "needs_background": "light"
     },
     "output_type": "display_data"
    }
   ],
   "source": [
    "df=data.sort_values(by=[\"NetWorth\"], ascending=False).head(10)\n",
    "plt.figure(figsize=(20,10))\n",
    "sns.histplot(x='Name',hue=\"NetWorth\",data=df)\n",
    "plt.show()"
   ]
  },
  {
   "cell_type": "code",
   "execution_count": 36,
   "id": "e8ef7d65",
   "metadata": {},
   "outputs": [],
   "source": [
    "a=data[\"Source\"].value_counts().head()\n",
    "index=a.index\n",
    "sources=a.values \n",
    "custom_colors=['skyblue','yellowgreen','tomato','blue','red']\n"
   ]
  },
  {
   "cell_type": "code",
   "execution_count": 41,
   "id": "495a64fa",
   "metadata": {},
   "outputs": [
    {
     "data": {
      "image/png": "[encoded data removed]",
      "text/plain": [
       "<Figure size 360x360 with 1 Axes>"
      ]
     },
     "metadata": {},
     "output_type": "display_data"
    }
   ],
   "source": [
    "plt.figure(figsize=(5,5))\n",
    "plt.pie(sources, labels=index, colors=custom_colors)\n",
    "central_circle=plt.Circle((0,0), 0.5, color='white')\n",
    "fig=plt.gcf()\n",
    "fig.gca().add_artist(central_circle)\n",
    "plt.rc('font', size=12)\n",
    "plt.title('Top 5 Domains to Become a Billionaire', fontsize=20)\n",
    "plt.show()"
   ]
  },
  {
   "cell_type": "code",
   "execution_count": 44,
   "id": "416d38c1",
   "metadata": {},
   "outputs": [
    {
     "data": {
      "image/png": "[encoded data removed]",
      "text/plain": [
       "<Figure size 360x360 with 1 Axes>"
      ]
     },
     "metadata": {},
     "output_type": "display_data"
    }
   ],
   "source": [
    "a=data['Industry'].value_counts().head()\n",
    "index=a.index\n",
    "industries=a.values\n",
    "custom_colors=['skyblue','yellowgreen','tomato','blue','red']\n",
    "plt.figure(figsize=(5,5))\n",
    "plt.pie(industries,labels=index, colors=custom_colors)\n",
    "central_circle=plt.Circle((0,0),0.5,color='white')\n",
    "fig=plt.gcf()\n",
    "fig.gca().add_artist(central_circle)\n",
    "plt.rc('font', size=12)\n",
    "plt.title('Top 5 Industries with Most Number of Billionaires', fontsize=20)\n",
    "plt.show()"
   ]
  },
  {
   "cell_type": "code",
   "execution_count": 45,
   "id": "28187246",
   "metadata": {},
   "outputs": [
    {
     "data": {
      "image/png": "[encoded data removed]",
      "text/plain": [
       "<Figure size 360x360 with 1 Axes>"
      ]
     },
     "metadata": {},
     "output_type": "display_data"
    }
   ],
   "source": [
    "a=data['Country'].value_counts().head()\n",
    "index=a.index\n",
    "Countries=a.values\n",
    "custom_colors=['skyblue','yellowgreen','tomato','blue','red']\n",
    "plt.figure(figsize=(5,5))\n",
    "plt.pie(Countries,labels=index, colors=custom_colors)\n",
    "central_circle=plt.Circle((0,0),0.5,color='white')\n",
    "fig=plt.gcf()\n",
    "fig.gca().add_artist(central_circle)\n",
    "plt.rc('font', size=12)\n",
    "plt.title('Top 5 Countries with Most Number of Billionaires', fontsize=20)\n",
    "plt.show()"
   ]
  }
 ],
 "metadata": {
  "kernelspec": {
   "display_name": "Python 3 (ipykernel)",
   "language": "python",
   "name": "python3"
  },
  "language_info": {
   "codemirror_mode": {
    "name": "ipython",
    "version": 3
   },
   "file_extension": ".py",
   "mimetype": "text/x-python",
   "name": "python",
   "nbconvert_exporter": "python",
   "pygments_lexer": "ipython3",
   "version": "3.9.12"
  }
 },
 "nbformat": 4,
 "nbformat_minor": 5
}
